{
 "cells": [
  {
   "cell_type": "markdown",
   "metadata": {},
   "source": [
    "## Randomized search"
   ]
  },
  {
   "cell_type": "code",
   "execution_count": 7,
   "metadata": {},
   "outputs": [],
   "source": [
    "# imports\n",
    "import sys\n",
    "sys.path.insert(1, '/Users/danielalemos/si/src/si/io')\n",
    "sys.path.insert(1, '/Users/danielalemos/si/src/si/model_selection')\n",
    "sys.path.insert(1, '/Users/danielalemos/si/src/si/linear_model')\n",
    "\n",
    "from csv_file import read_csv\n",
    "from logistic_regression import LogisticRegression\n",
    "from cross_validate import cross_validate\n",
    "from randomized_search import randomized_search_cv\n",
    "\n",
    "import numpy as np"
   ]
  },
  {
   "cell_type": "code",
   "execution_count": 8,
   "metadata": {},
   "outputs": [],
   "source": [
    "# datasets\n",
    "breast_bin_dataset = read_csv('/Users/danielalemos/si/datasets/breast-bin.csv', features=False, label=True)"
   ]
  },
  {
   "cell_type": "code",
   "execution_count": 9,
   "metadata": {},
   "outputs": [
    {
     "data": {
      "text/plain": [
       "array([[ 0.20885295, -0.69912815, -0.74242297, ..., -1.0000359 ,\n",
       "        -0.61132565, -0.34418721],\n",
       "       [-0.8578253 , -0.69912815, -0.74242297, ..., -0.58991542,\n",
       "        -0.61132565, -0.34418721],\n",
       "       [-0.8578253 , -0.69912815, -0.74242297, ..., -0.17979494,\n",
       "        -0.61132565, -0.34418721],\n",
       "       ...,\n",
       "       [ 0.20885295, -0.37139715, -0.40592217, ..., -1.0000359 ,\n",
       "        -0.61132565,  0.23892607],\n",
       "       [-0.8578253 , -0.04366616, -0.40592217, ..., -0.17979494,\n",
       "        -0.61132565, -0.34418721],\n",
       "       [ 0.91997179,  0.93952681,  0.94008103, ...,  1.46068699,\n",
       "        -0.61132565, -0.34418721]])"
      ]
     },
     "execution_count": 9,
     "metadata": {},
     "output_type": "execute_result"
    }
   ],
   "source": [
    "# standardization\n",
    "from sklearn.preprocessing import StandardScaler\n",
    "breast_bin_dataset.X = StandardScaler().fit_transform(breast_bin_dataset.X)\n",
    "breast_bin_dataset.X"
   ]
  },
  {
   "cell_type": "code",
   "execution_count": 10,
   "metadata": {},
   "outputs": [
    {
     "name": "stdout",
     "output_type": "stream",
     "text": [
      "[{'seeds': [665, 181, 469], 'train': [0.9713701431492843, 0.9693251533742331, 0.9713701431492843], 'test': [0.9569377990430622, 0.9617224880382775, 0.9569377990430622], 'parameters': {'l2_penalty': 6.0, 'alpha': 0.000690909090909091, 'max_iter': 1090}}, {'seeds': [543, 184, 692], 'train': [0.967280163599182, 0.3496932515337423, 0.3537832310838446], 'test': [0.9665071770334929, 0.33014354066985646, 0.32057416267942584], 'parameters': {'l2_penalty': 6.0, 'alpha': 0.0006636363636363636, 'max_iter': 1829}}, {'seeds': [963, 21, 11], 'train': [0.967280163599182, 0.3333333333333333, 0.3496932515337423], 'test': [0.9665071770334929, 0.3684210526315789, 0.33014354066985646], 'parameters': {'l2_penalty': 3.0, 'alpha': 0.0009090909090909091, 'max_iter': 1648}}, {'seeds': [286, 633, 661], 'train': [0.9631901840490797, 0.3292433537832311, 0.34355828220858897], 'test': [0.9760765550239234, 0.37799043062200954, 0.3444976076555024], 'parameters': {'l2_penalty': 10.0, 'alpha': 0.00046363636363636366, 'max_iter': 1633}}, {'seeds': [921, 232, 480], 'train': [0.9754601226993865, 0.9713701431492843, 0.9611451942740287], 'test': [0.9473684210526315, 0.9569377990430622, 0.9808612440191388], 'parameters': {'l2_penalty': 7.0, 'alpha': 0.0006545454545454545, 'max_iter': 1437}}, {'seeds': [353, 980, 292], 'train': [0.967280163599182, 0.9570552147239264, 0.9713701431492843], 'test': [0.9665071770334929, 0.9904306220095693, 0.9569377990430622], 'parameters': {'l2_penalty': 5.0, 'alpha': 0.0002818181818181818, 'max_iter': 1216}}, {'seeds': [785, 876, 368], 'train': [0.967280163599182, 0.9591002044989775, 0.3374233128834356], 'test': [0.9665071770334929, 0.9856459330143541, 0.3588516746411483], 'parameters': {'l2_penalty': 7.0, 'alpha': 0.0005909090909090909, 'max_iter': 1477}}, {'seeds': [646, 864, 676], 'train': [0.9631901840490797, 0.35787321063394684, 0.36809815950920244], 'test': [0.9760765550239234, 0.31100478468899523, 0.28708133971291866], 'parameters': {'l2_penalty': 4.0, 'alpha': 0.000990909090909091, 'max_iter': 1864}}, {'seeds': [665, 181, 469], 'train': [0.9713701431492843, 0.9693251533742331, 0.9713701431492843], 'test': [0.9569377990430622, 0.9617224880382775, 0.9569377990430622], 'parameters': {'l2_penalty': 6.0, 'alpha': 0.000690909090909091, 'max_iter': 1090}}, {'seeds': [543, 184, 692], 'train': [0.967280163599182, 0.3496932515337423, 0.3537832310838446], 'test': [0.9665071770334929, 0.33014354066985646, 0.32057416267942584], 'parameters': {'l2_penalty': 6.0, 'alpha': 0.0006636363636363636, 'max_iter': 1829}}]\n"
     ]
    }
   ],
   "source": [
    "lg = LogisticRegression()\n",
    "parameters = {\"l2_penalty\": np.linspace(1,10,10),\n",
    "              \"alpha\": np.linspace(0.001,0.0001,100),\n",
    "              \"max_iter\": np.linspace(1000,2000,200, dtype=np.int64)}\n",
    "\n",
    "scores = randomized_search_cv (model = lg, dataset = breast_bin_dataset,parameter_distribution = parameters, cv = 3, n_iter = 10, test_size = 0.3)\n",
    "print(scores)"
   ]
  }
 ],
 "metadata": {
  "kernelspec": {
   "display_name": "Python 3",
   "language": "python",
   "name": "python3"
  },
  "language_info": {
   "codemirror_mode": {
    "name": "ipython",
    "version": 3
   },
   "file_extension": ".py",
   "mimetype": "text/x-python",
   "name": "python",
   "nbconvert_exporter": "python",
   "pygments_lexer": "ipython3",
   "version": "3.10.0"
  },
  "vscode": {
   "interpreter": {
    "hash": "f0501675a723b2a198c9cd58c1dbd94e47b3249586e5714748f4e1b8da13cb58"
   }
  }
 },
 "nbformat": 4,
 "nbformat_minor": 4
}
