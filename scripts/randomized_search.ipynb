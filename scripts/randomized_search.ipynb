{
 "cells": [
  {
   "cell_type": "markdown",
   "metadata": {},
   "source": [
    "## Randomized search"
   ]
  },
  {
   "cell_type": "code",
   "execution_count": 1,
   "metadata": {},
   "outputs": [],
   "source": [
    "# imports\n",
    "import sys\n",
    "sys.path.insert(1, '/Users/danielalemos/si/src/si/io')\n",
    "sys.path.insert(1, '/Users/danielalemos/si/src/si/model_selection')\n",
    "sys.path.insert(1, '/Users/danielalemos/si/src/si/linear_model')\n",
    "\n",
    "from csv_file import read_csv\n",
    "from logistic_regression import LogisticRegression\n",
    "from cross_validate import cross_validate\n",
    "from randomized_search import randomized_search_cv\n",
    "\n",
    "import numpy as np"
   ]
  },
  {
   "cell_type": "code",
   "execution_count": 2,
   "metadata": {},
   "outputs": [],
   "source": [
    "# datasets\n",
    "breast_bin_dataset = read_csv('/Users/danielalemos/si/datasets/breast-bin.csv', features=False, label=True)"
   ]
  },
  {
   "cell_type": "code",
   "execution_count": 3,
   "metadata": {},
   "outputs": [
    {
     "data": {
      "text/plain": [
       "array([[ 0.20885295, -0.69912815, -0.74242297, ..., -1.0000359 ,\n",
       "        -0.61132565, -0.34418721],\n",
       "       [-0.8578253 , -0.69912815, -0.74242297, ..., -0.58991542,\n",
       "        -0.61132565, -0.34418721],\n",
       "       [-0.8578253 , -0.69912815, -0.74242297, ..., -0.17979494,\n",
       "        -0.61132565, -0.34418721],\n",
       "       ...,\n",
       "       [ 0.20885295, -0.37139715, -0.40592217, ..., -1.0000359 ,\n",
       "        -0.61132565,  0.23892607],\n",
       "       [-0.8578253 , -0.04366616, -0.40592217, ..., -0.17979494,\n",
       "        -0.61132565, -0.34418721],\n",
       "       [ 0.91997179,  0.93952681,  0.94008103, ...,  1.46068699,\n",
       "        -0.61132565, -0.34418721]])"
      ]
     },
     "execution_count": 3,
     "metadata": {},
     "output_type": "execute_result"
    }
   ],
   "source": [
    "# standardization\n",
    "from sklearn.preprocessing import StandardScaler\n",
    "breast_bin_dataset.X = StandardScaler().fit_transform(breast_bin_dataset.X)\n",
    "breast_bin_dataset.X"
   ]
  },
  {
   "cell_type": "code",
   "execution_count": 4,
   "metadata": {},
   "outputs": [
    {
     "name": "stdout",
     "output_type": "stream",
     "text": [
      "[{'seeds': [35, 173, 436], 'train': [0.9713701431492843, 0.30879345603271985, 0.3476482617586912], 'test': [0.9569377990430622, 0.4258373205741627, 0.3349282296650718], 'parameters': {'l2_penalty': 7.0, 'alpha': 0.0008636363636363636, 'max_iter': 1422}}, {'seeds': [214, 61, 935], 'train': [0.9713701431492843, 0.35991820040899797, 0.33537832310838445], 'test': [0.9569377990430622, 0.3062200956937799, 0.36363636363636365], 'parameters': {'l2_penalty': 9.0, 'alpha': 0.0004363636363636364, 'max_iter': 1748}}, {'seeds': [188, 173, 436], 'train': [0.9693251533742331, 0.30879345603271985, 0.3476482617586912], 'test': [0.9617224880382775, 0.4258373205741627, 0.3349282296650718], 'parameters': {'l2_penalty': 6.0, 'alpha': 0.0002727272727272728, 'max_iter': 1658}}, {'seeds': [214, 61, 935], 'train': [0.9713701431492843, 0.35991820040899797, 0.33537832310838445], 'test': [0.9569377990430622, 0.3062200956937799, 0.36363636363636365], 'parameters': {'l2_penalty': 9.0, 'alpha': 0.0004363636363636364, 'max_iter': 1748}}, {'seeds': [188, 173, 436], 'train': [0.9693251533742331, 0.30879345603271985, 0.3476482617586912], 'test': [0.9617224880382775, 0.4258373205741627, 0.3349282296650718], 'parameters': {'l2_penalty': 6.0, 'alpha': 0.0002727272727272728, 'max_iter': 1658}}, {'seeds': [214, 61, 935], 'train': [0.9713701431492843, 0.35991820040899797, 0.33537832310838445], 'test': [0.9569377990430622, 0.3062200956937799, 0.36363636363636365], 'parameters': {'l2_penalty': 9.0, 'alpha': 0.0004363636363636364, 'max_iter': 1748}}, {'seeds': [188, 173, 436], 'train': [0.9693251533742331, 0.30879345603271985, 0.3476482617586912], 'test': [0.9617224880382775, 0.4258373205741627, 0.3349282296650718], 'parameters': {'l2_penalty': 6.0, 'alpha': 0.0002727272727272728, 'max_iter': 1658}}, {'seeds': [214, 61, 935], 'train': [0.9713701431492843, 0.35991820040899797, 0.33537832310838445], 'test': [0.9569377990430622, 0.3062200956937799, 0.36363636363636365], 'parameters': {'l2_penalty': 9.0, 'alpha': 0.0004363636363636364, 'max_iter': 1748}}, {'seeds': [188, 173, 436], 'train': [0.9693251533742331, 0.30879345603271985, 0.3476482617586912], 'test': [0.9617224880382775, 0.4258373205741627, 0.3349282296650718], 'parameters': {'l2_penalty': 6.0, 'alpha': 0.0002727272727272728, 'max_iter': 1658}}, {'seeds': [214, 61, 935], 'train': [0.9713701431492843, 0.35991820040899797, 0.33537832310838445], 'test': [0.9569377990430622, 0.3062200956937799, 0.36363636363636365], 'parameters': {'l2_penalty': 9.0, 'alpha': 0.0004363636363636364, 'max_iter': 1748}}]\n"
     ]
    }
   ],
   "source": [
    "lg = LogisticRegression()\n",
    "parameters = {\"l2_penalty\": np.linspace(1,10,10),\n",
    "              \"alpha\": np.linspace(0.001,0.0001,100),\n",
    "              \"max_iter\": np.linspace(1000,2000,200, dtype=np.int16)}\n",
    "\n",
    "scores = randomized_search_cv (model = lg, dataset = breast_bin_dataset,parameter_distribution = parameters, cv = 3, n_iter = 10, test_size = 0.3)\n",
    "print(scores)"
   ]
  }
 ],
 "metadata": {
  "kernelspec": {
   "display_name": "Python 3",
   "language": "python",
   "name": "python3"
  },
  "language_info": {
   "codemirror_mode": {
    "name": "ipython",
    "version": 3
   },
   "file_extension": ".py",
   "mimetype": "text/x-python",
   "name": "python",
   "nbconvert_exporter": "python",
   "pygments_lexer": "ipython3",
   "version": "3.8.8"
  },
  "vscode": {
   "interpreter": {
    "hash": "f0501675a723b2a198c9cd58c1dbd94e47b3249586e5714748f4e1b8da13cb58"
   }
  }
 },
 "nbformat": 4,
 "nbformat_minor": 4
}
