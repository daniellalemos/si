{
 "cells": [
  {
   "cell_type": "markdown",
   "metadata": {},
   "source": [
    "# RidgeRegression e LogisticRegression"
   ]
  },
  {
   "cell_type": "markdown",
   "metadata": {},
   "source": [
    "#### Realiza um gráfico (line plot) que permita visualizar o comportamento do custo em função do número de iterações."
   ]
  },
  {
   "cell_type": "code",
   "execution_count": 1,
   "metadata": {},
   "outputs": [],
   "source": [
    "import sys \n",
    "sys.path.insert(1, '/Users/danielalemos/si/src/si/io')\n",
    "sys.path.insert(1, '/Users/danielalemos/si/src/si/linear_model')\n",
    "sys.path.insert(1, '/Users/danielalemos/si/src/si/model_selection')\n",
    "from logistic_regression import LogisticRegression\n",
    "from ridge_regression import RidgeRegression\n",
    "from csv_file import read_csv\n",
    "from split import train_test_split\n",
    "\n",
    "import matplotlib.pyplot as plt \n",
    "import numpy as np\n",
    "from sklearn.preprocessing import StandardScaler"
   ]
  },
  {
   "cell_type": "markdown",
   "metadata": {},
   "source": [
    "### Modelo RidgeRegression"
   ]
  },
  {
   "cell_type": "code",
   "execution_count": 2,
   "metadata": {},
   "outputs": [],
   "source": [
    "cpu_path = '/Users/danielalemos/si/datasets/cpu.csv'\n",
    "cpu = read_csv(cpu_path, sep = ',', features = True, label = True)"
   ]
  },
  {
   "cell_type": "code",
   "execution_count": 3,
   "metadata": {},
   "outputs": [],
   "source": [
    "#normalize data\n",
    "cpu.X = StandardScaler().fit_transform(cpu.X)"
   ]
  },
  {
   "cell_type": "code",
   "execution_count": 4,
   "metadata": {},
   "outputs": [
    {
     "data": {
      "text/plain": [
       "array([ 45, 318, 138,  18,  36,  30, 277,  21,  66, 214,  22,  36,  45,\n",
       "       106,  37,  27,  66, 307, 113, 269, 144,  24, 277, 140,  20,  34,\n",
       "        22,  26, 105,  18,  16, 189,  42,  45,  77,  80, 214,  12,  29,\n",
       "        53,  72,  11, 212, 141, 248, 465,  52,  50,  33, 100,  11,  22,\n",
       "        26,  17, 144,  62,  20,  14,  33,  20,  12,   6])"
      ]
     },
     "execution_count": 4,
     "metadata": {},
     "output_type": "execute_result"
    }
   ],
   "source": [
    "#split dataset\n",
    "train_dataset, test_dataset = train_test_split(cpu, test_size = 0.3, random_state = 20)\n",
    "test_dataset.y"
   ]
  },
  {
   "cell_type": "code",
   "execution_count": 5,
   "metadata": {},
   "outputs": [
    {
     "name": "stdout",
     "output_type": "stream",
     "text": [
      "Regular fit\n"
     ]
    }
   ],
   "source": [
    "ridge = RidgeRegression(max_iter=2000, use_adaptive_alpha = False)\n",
    "ridge.fit(train_dataset)\n",
    "predictions = ridge.predict(test_dataset)"
   ]
  },
  {
   "cell_type": "code",
   "execution_count": 6,
   "metadata": {},
   "outputs": [
    {
     "name": "stdout",
     "output_type": "stream",
     "text": [
      "Adaptive fit\n"
     ]
    }
   ],
   "source": [
    "ridge2 = RidgeRegression(max_iter=2000, use_adaptive_alpha = True)\n",
    "ridge2.fit(train_dataset)\n",
    "predictions2 = ridge2.predict(test_dataset)"
   ]
  },
  {
   "cell_type": "code",
   "execution_count": 7,
   "metadata": {},
   "outputs": [
    {
     "name": "stdout",
     "output_type": "stream",
     "text": [
      "Predictions with regular fit:\n",
      "[ 70.89075551 299.53489581 121.35145259 -43.92926266 -10.29748103\n",
      "  35.5842328  239.10487422  -3.11401658  92.9317446  174.96384289\n",
      "  10.03040272 -12.42955137  -2.42504673 185.46015448  -1.42271341\n",
      "  -9.9897424   80.7636453  478.28923993  95.37631053 274.6126249\n",
      "  96.17911308 -37.63596197 289.15099319 292.93929736 -43.89236001\n",
      "  -1.98781544  -0.5660267   13.31136706  33.11094178 -21.7109707\n",
      " -30.03573183 209.66584324  51.27146181  15.70406758 -24.89518657\n",
      "  61.54784699 175.85074666 -40.07070672  -9.08264521  33.89417913\n",
      "  32.06883983 -37.17419408 243.50957933 209.66584324 289.57256363\n",
      " 389.81770411  17.97494139 -22.63667835  34.24070916  95.694301\n",
      " -39.42179646 -19.76863913 -35.87684712 -28.07408666 135.09047929\n",
      "  29.29791967 -13.12611192 -36.92046251  39.47189376 -22.18883637\n",
      " -37.5197202  -44.66936651]\n",
      "Score with regular fit: 1316.6049240618975\n",
      "Cost with regular fit: 1382.2527265541228\n"
     ]
    }
   ],
   "source": [
    "#Informations with regular fit\n",
    "print(f'Predictions with regular fit:\\n{predictions}')\n",
    "print(f'Score with regular fit: {ridge.score(test_dataset)}')\n",
    "print(f'Cost with regular fit: {ridge.cost(test_dataset)}')"
   ]
  },
  {
   "cell_type": "code",
   "execution_count": 8,
   "metadata": {},
   "outputs": [
    {
     "name": "stdout",
     "output_type": "stream",
     "text": [
      "Predictions with adaptive fit:\n",
      "[ 70.91711036 299.5752368  121.38091728 -43.89046994 -10.28875961\n",
      "  35.60375684 239.14652405  -3.0936041   92.95861213 174.99331602\n",
      "  10.05248887 -12.40423811  -2.39825333 185.48412281  -1.37787857\n",
      "  -9.97379861  80.7952137  478.271577    95.39774038 274.65396654\n",
      "  96.20189555 -37.61543225 289.1913215  292.97403243 -43.8509229\n",
      "  -1.96614817  -0.54831603  13.3316251   33.12700569 -21.66535628\n",
      " -30.01132826 209.71298559  51.29957675  15.72316583 -24.86890071\n",
      "  61.57570723 175.87796858 -40.05036319  -9.06364237  33.92663423\n",
      "  32.09315978 -37.15327406 243.51993456 209.71298559 289.60702146\n",
      " 389.8680916   17.99852858 -22.61706164  34.25669368  95.71835645\n",
      " -39.37860406 -19.74449517 -35.86277585 -28.05680276 135.12002004\n",
      "  29.32022452 -13.08126261 -36.89978975  39.49270754 -22.14538496\n",
      " -37.50317416 -44.64941341]\n",
      "Score with adaptive fit: 1316.0039829694995\n",
      "Cost with adaptive fit: 1381.6629931165799\n"
     ]
    }
   ],
   "source": [
    "#Informations with adaptive fit\n",
    "print(f'Predictions with adaptive fit:\\n{predictions2}')\n",
    "print(f'Score with adaptive fit: {ridge2.score(test_dataset)}')\n",
    "print(f'Cost with adaptive fit: {ridge2.cost(test_dataset)}')"
   ]
  },
  {
   "cell_type": "code",
   "execution_count": 9,
   "metadata": {},
   "outputs": [
    {
     "data": {
      "text/plain": [
       "Text(0.5, 1.0, 'Cost function with Regular Fit')"
      ]
     },
     "execution_count": 9,
     "metadata": {},
     "output_type": "execute_result"
    },
    {
     "data": {
      "image/png": "[encoded data removed]",
      "text/plain": [
       "<Figure size 432x288 with 1 Axes>"
      ]
     },
     "metadata": {
      "needs_background": "light"
     },
     "output_type": "display_data"
    }
   ],
   "source": [
    "#Plot with regular fit\n",
    "cost_hist = ridge.cost_history\n",
    "cost_value = list(cost_hist.keys()) #y \n",
    "iterations = list(cost_hist.values()) #x\n",
    "plt.plot(cost_value, iterations)\n",
    "plt.xlabel('Number of iterations')\n",
    "plt.ylabel('Cost Value')\n",
    "plt.title('Cost function with Regular Fit')"
   ]
  },
  {
   "cell_type": "code",
   "execution_count": 10,
   "metadata": {},
   "outputs": [
    {
     "data": {
      "text/plain": [
       "Text(0.5, 1.0, 'Cost function with Adaptive Fit')"
      ]
     },
     "execution_count": 10,
     "metadata": {},
     "output_type": "execute_result"
    },
    {
     "data": {
      "image/png": "[encoded data removed]",
      "text/plain": [
       "<Figure size 432x288 with 1 Axes>"
      ]
     },
     "metadata": {
      "needs_background": "light"
     },
     "output_type": "display_data"
    }
   ],
   "source": [
    "#Plot with adaptive fit\n",
    "cost_hist = ridge2.cost_history\n",
    "cost_value = list(cost_hist.keys()) #y \n",
    "iterations = list(cost_hist.values()) #x\n",
    "plt.plot(cost_value, iterations)\n",
    "plt.xlabel('Number of iterations')\n",
    "plt.ylabel('Cost Value')\n",
    "plt.title('Cost function with Adaptive Fit')"
   ]
  },
  {
   "cell_type": "markdown",
   "metadata": {},
   "source": [
    "### Modelo LogisticRegression"
   ]
  },
  {
   "cell_type": "code",
   "execution_count": 11,
   "metadata": {},
   "outputs": [],
   "source": [
    "breast_bin_path = '/Users/danielalemos/si/datasets/breast-bin.csv'\n",
    "breast_bin = read_csv(breast_bin_path, sep = ',', features = False, label = True)"
   ]
  },
  {
   "cell_type": "code",
   "execution_count": 12,
   "metadata": {},
   "outputs": [],
   "source": [
    "#normalize data\n",
    "breast_bin.X = StandardScaler().fit_transform(breast_bin.X)"
   ]
  },
  {
   "cell_type": "code",
   "execution_count": 13,
   "metadata": {},
   "outputs": [
    {
     "data": {
      "text/plain": [
       "array([1., 1., 0., 1., 0., 1., 1., 0., 0., 0., 0., 1., 0., 0., 0., 0., 1.,\n",
       "       1., 1., 0., 0., 0., 1., 1., 0., 0., 0., 0., 0., 0., 0., 0., 0., 0.,\n",
       "       1., 0., 1., 0., 1., 0., 0., 0., 1., 1., 1., 0., 0., 0., 0., 1., 0.,\n",
       "       1., 0., 1., 0., 0., 1., 0., 1., 1., 0., 0., 0., 0., 0., 0., 0., 0.,\n",
       "       1., 0., 0., 0., 0., 0., 0., 0., 0., 0., 0., 1., 0., 0., 0., 0., 1.,\n",
       "       0., 0., 1., 1., 1., 1., 1., 1., 1., 0., 0., 1., 0., 1., 0., 0., 1.,\n",
       "       0., 1., 0., 1., 0., 0., 1., 0., 0., 0., 0., 1., 0., 0., 1., 0., 0.,\n",
       "       0., 1., 0., 0., 1., 1., 0., 0., 0., 0., 0., 0., 1., 1., 1., 0., 1.,\n",
       "       1., 1., 0., 1., 0., 1., 0., 0., 0., 0., 0., 0., 1., 1., 0., 0., 0.,\n",
       "       0., 0., 0., 0., 0., 1., 1., 1., 1., 0., 1., 0., 1., 0., 0., 0., 0.,\n",
       "       1., 1., 0., 0., 0., 0., 0., 0., 1., 0., 1., 0., 1., 1., 1., 0., 0.,\n",
       "       0., 0., 1., 0., 0., 1., 1., 1., 0., 0., 0., 0., 0., 0., 1., 0., 0.,\n",
       "       1., 0., 0., 1., 0.])"
      ]
     },
     "execution_count": 13,
     "metadata": {},
     "output_type": "execute_result"
    }
   ],
   "source": [
    "#split dataset\n",
    "train_dataset, test_dataset = train_test_split(breast_bin, test_size = 0.3, random_state = 20)\n",
    "test_dataset.y"
   ]
  },
  {
   "cell_type": "code",
   "execution_count": 14,
   "metadata": {},
   "outputs": [],
   "source": [
    "log_reg = LogisticRegression(max_iter = 2000, use_adaptive_alpha = False)\n",
    "log_reg.fit(train_dataset)\n",
    "predictions = log_reg.predict(test_dataset)"
   ]
  },
  {
   "cell_type": "code",
   "execution_count": 15,
   "metadata": {},
   "outputs": [],
   "source": [
    "log_reg2 = LogisticRegression(max_iter = 2000, use_adaptive_alpha = True)\n",
    "log_reg2.fit(train_dataset)\n",
    "predictions2 = log_reg2.predict(test_dataset)"
   ]
  },
  {
   "cell_type": "code",
   "execution_count": 16,
   "metadata": {},
   "outputs": [
    {
     "name": "stdout",
     "output_type": "stream",
     "text": [
      "Predictions with regular fit:\n",
      "[1. 1. 0. 1. 0. 1. 1. 0. 0. 0. 0. 1. 0. 0. 0. 0. 1. 1. 1. 0. 0. 0. 1. 1.\n",
      " 0. 0. 0. 0. 0. 0. 0. 0. 0. 0. 1. 1. 1. 0. 1. 0. 0. 1. 1. 1. 1. 0. 0. 0.\n",
      " 0. 0. 0. 1. 0. 1. 0. 0. 1. 0. 1. 1. 0. 0. 0. 0. 0. 0. 0. 0. 1. 0. 0. 0.\n",
      " 0. 0. 0. 0. 0. 0. 0. 1. 0. 0. 0. 0. 1. 0. 0. 1. 1. 1. 1. 1. 1. 1. 0. 0.\n",
      " 1. 0. 1. 0. 0. 1. 0. 1. 0. 1. 0. 0. 1. 0. 0. 0. 0. 1. 0. 0. 1. 0. 0. 0.\n",
      " 1. 0. 0. 1. 1. 1. 0. 0. 0. 0. 0. 1. 1. 1. 0. 1. 1. 1. 0. 1. 0. 1. 0. 0.\n",
      " 0. 0. 0. 0. 1. 1. 0. 0. 0. 0. 0. 0. 0. 0. 1. 1. 1. 1. 0. 1. 0. 1. 0. 0.\n",
      " 0. 0. 1. 1. 0. 0. 0. 1. 0. 1. 1. 0. 1. 0. 1. 1. 1. 0. 0. 0. 0. 1. 0. 0.\n",
      " 1. 1. 1. 0. 0. 0. 0. 0. 0. 1. 0. 0. 1. 0. 0. 1. 0.]\n",
      "Score with regular fit: 0.9712918660287081\n",
      "Cost with regular fit: 0.24361041827854127\n"
     ]
    }
   ],
   "source": [
    "#Informations with regular fit\n",
    "print(f'Predictions with regular fit:\\n{predictions}')\n",
    "print(f'Score with regular fit: {log_reg.score(test_dataset)}')\n",
    "print(f'Cost with regular fit: {log_reg.cost(test_dataset)}')"
   ]
  },
  {
   "cell_type": "code",
   "execution_count": 17,
   "metadata": {},
   "outputs": [
    {
     "name": "stdout",
     "output_type": "stream",
     "text": [
      "Predictions with adaptive fit:\n",
      "[1. 1. 0. 1. 0. 1. 1. 0. 0. 0. 0. 1. 0. 0. 0. 0. 1. 1. 1. 0. 0. 0. 1. 1.\n",
      " 0. 0. 0. 0. 0. 0. 0. 0. 0. 0. 1. 1. 1. 0. 1. 0. 0. 1. 1. 1. 1. 0. 0. 0.\n",
      " 0. 0. 0. 1. 0. 1. 0. 0. 1. 0. 1. 1. 0. 0. 0. 0. 0. 0. 0. 0. 1. 0. 0. 0.\n",
      " 0. 0. 0. 0. 0. 0. 0. 1. 0. 0. 0. 0. 1. 0. 0. 1. 1. 1. 1. 1. 1. 1. 0. 0.\n",
      " 1. 0. 1. 0. 0. 1. 0. 1. 0. 1. 0. 0. 1. 0. 0. 0. 0. 1. 0. 0. 1. 0. 0. 0.\n",
      " 1. 0. 0. 1. 1. 1. 0. 0. 0. 0. 0. 1. 1. 1. 0. 1. 1. 1. 0. 1. 0. 1. 0. 0.\n",
      " 0. 0. 0. 0. 1. 1. 0. 0. 0. 0. 0. 0. 0. 0. 1. 1. 1. 1. 0. 1. 0. 1. 0. 0.\n",
      " 0. 0. 1. 1. 0. 0. 0. 1. 0. 1. 1. 0. 1. 0. 1. 1. 1. 0. 0. 0. 0. 1. 0. 0.\n",
      " 1. 1. 1. 0. 0. 0. 0. 0. 0. 1. 0. 0. 1. 0. 0. 1. 0.]\n",
      "Score with adaptive fit: 0.9712918660287081\n",
      "Cost with adaptive fit: 0.24351077938949975\n"
     ]
    }
   ],
   "source": [
    "#Informations with adaptive fit\n",
    "print(f'Predictions with adaptive fit:\\n{predictions2}')\n",
    "print(f'Score with adaptive fit: {log_reg2.score(test_dataset)}')\n",
    "print(f'Cost with adaptive fit: {log_reg2.cost(test_dataset)}')"
   ]
  },
  {
   "cell_type": "code",
   "execution_count": 18,
   "metadata": {},
   "outputs": [
    {
     "data": {
      "text/plain": [
       "Text(0.5, 1.0, 'Cost function with Regular Fit')"
      ]
     },
     "execution_count": 18,
     "metadata": {},
     "output_type": "execute_result"
    },
    {
     "data": {
      "image/png": "[encoded data removed]",
      "text/plain": [
       "<Figure size 432x288 with 1 Axes>"
      ]
     },
     "metadata": {
      "needs_background": "light"
     },
     "output_type": "display_data"
    }
   ],
   "source": [
    "#Plot with regular fit\n",
    "cost_hist = log_reg.cost_history\n",
    "cost_value = list(cost_hist.keys()) #y \n",
    "iterations = list(cost_hist.values()) #x\n",
    "plt.plot(cost_value, iterations)\n",
    "plt.xlabel('Number of iterations')\n",
    "plt.ylabel('Cost Value')\n",
    "plt.title('Cost function with Regular Fit')"
   ]
  },
  {
   "cell_type": "code",
   "execution_count": 19,
   "metadata": {},
   "outputs": [
    {
     "data": {
      "text/plain": [
       "Text(0.5, 1.0, 'Cost function with Adaptive Fit')"
      ]
     },
     "execution_count": 19,
     "metadata": {},
     "output_type": "execute_result"
    },
    {
     "data": {
      "image/png": "[encoded data removed]",
      "text/plain": [
       "<Figure size 432x288 with 1 Axes>"
      ]
     },
     "metadata": {
      "needs_background": "light"
     },
     "output_type": "display_data"
    }
   ],
   "source": [
    "#Plot with adaptive fit\n",
    "cost_hist = log_reg2.cost_history\n",
    "cost_value = list(cost_hist.keys()) #y \n",
    "iterations = list(cost_hist.values()) #x\n",
    "plt.plot(cost_value, iterations)\n",
    "plt.xlabel('Number of iterations')\n",
    "plt.ylabel('Cost Value')\n",
    "plt.title('Cost function with Adaptive Fit')"
   ]
  }
 ],
 "metadata": {
  "kernelspec": {
   "display_name": "Python 3",
   "language": "python",
   "name": "python3"
  },
  "language_info": {
   "codemirror_mode": {
    "name": "ipython",
    "version": 3
   },
   "file_extension": ".py",
   "mimetype": "text/x-python",
   "name": "python",
   "nbconvert_exporter": "python",
   "pygments_lexer": "ipython3",
   "version": "3.8.8"
  },
  "vscode": {
   "interpreter": {
    "hash": "f0501675a723b2a198c9cd58c1dbd94e47b3249586e5714748f4e1b8da13cb58"
   }
  }
 },
 "nbformat": 4,
 "nbformat_minor": 4
}
